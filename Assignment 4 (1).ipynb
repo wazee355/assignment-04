{
 "cells": [
  {
   "cell_type": "markdown",
   "id": "7cf9a54a",
   "metadata": {},
   "source": [
    "1. What exactly is []?\n",
    "\n",
    "Answer- This is empty list value, the list which contains no items or no values."
   ]
  },
  {
   "cell_type": "markdown",
   "id": "d731ebc4",
   "metadata": {},
   "source": [
    "2. In a list of values stored in a variable called spam, how would you assign the value hello; as the\n",
    "third value? (Assume [2, 4, 6, 8, 10] are in spam.)\n",
    "Let&#39;s pretend the spam includes the list [a, b,c,d] for the next three queries.\n",
    "\n",
    "Answer- spam[2] ='hello'"
   ]
  },
  {
   "cell_type": "markdown",
   "id": "e47f33c5",
   "metadata": {},
   "source": [
    "3. What is the value of spam[int(int('3' * 2) / 11)]?\n",
    "\n",
    "Answer- 'd'( NOte that '3' *2 is the string so it will become '33', which is passed into a integer before being divided by 11. This eventually evalutes to 3)"
   ]
  },
  {
   "cell_type": "markdown",
   "id": "249bb40b",
   "metadata": {},
   "source": [
    "4. What is the value of spam[-1]?\n",
    "\n",
    "Answer- 'd'( Negative indexes start from end.)"
   ]
  },
  {
   "cell_type": "markdown",
   "id": "5a64fe7f",
   "metadata": {},
   "source": [
    "5. What is the value of spam[:2]?\n",
    "Let&#39;s pretend bacon has the list [3.14, cat, 11, cat, True] for the next three questions.\n",
    "\n",
    "ANswer- ['cat', 'cat']"
   ]
  },
  {
   "cell_type": "markdown",
   "id": "3ec23c33",
   "metadata": {},
   "source": [
    "6. What is the value of bacon.index('cat')?\n",
    "\n",
    "Answer- 1"
   ]
  },
  {
   "cell_type": "markdown",
   "id": "1700cb97",
   "metadata": {},
   "source": [
    "7. How does bacon.append(99) change the look of the list value in bacon?\n",
    "\n",
    "Answer- [3.14,'cat',11,'cat',True, 99]"
   ]
  },
  {
   "cell_type": "markdown",
   "id": "c6b5ab06",
   "metadata": {},
   "source": [
    "8. How does bacon.remove('cat') change the look of the list in bacon?\n",
    "\n",
    "Answer- [3.14, 11, True]"
   ]
  },
  {
   "cell_type": "markdown",
   "id": "eaa5cc30",
   "metadata": {},
   "source": [
    "9. What are the list concatenation and list replication operators?\n",
    "\n",
    "Answer- The operator for list concatenation i (+), while list replication operator is (*)."
   ]
  },
  {
   "cell_type": "markdown",
   "id": "9cc38d58",
   "metadata": {},
   "source": [
    "10. What is difference between the list methods append() and insert()?\n",
    "\n",
    "Answer- List methods append means adding values only at the end, while in insert values can be added anywhere in the list."
   ]
  },
  {
   "cell_type": "markdown",
   "id": "a020a2c6",
   "metadata": {},
   "source": [
    "11. What are the two methods for removing items from a list?\n",
    "\n",
    "Answer- The two methods for removing items from a list are del statement and the remove()."
   ]
  },
  {
   "cell_type": "markdown",
   "id": "6287ec6e",
   "metadata": {},
   "source": [
    "12. Describe how list values and string values are identical.\n",
    "\n",
    "Answer- Both list and string values can be passed to len(), have indexes and slices, be used in slices, they can be concantenated and replicated."
   ]
  },
  {
   "cell_type": "markdown",
   "id": "7c55909b",
   "metadata": {},
   "source": [
    "13. What is the difference between tuples and lists?\n",
    "\n",
    "Answer- List are mutable, the values can be added, remove or cahnged but tuple are immutable, it cannot be changed at all. Tuple are using parnatheses (), and while lists use square brackets[]."
   ]
  },
  {
   "cell_type": "markdown",
   "id": "15e2c73e",
   "metadata": {},
   "source": [
    "14. How do you type a tuple value that only contains the integer 42?\n",
    "\n",
    "ANswer- (42)."
   ]
  },
  {
   "cell_type": "markdown",
   "id": "b85e4474",
   "metadata": {},
   "source": [
    "15. How do you get a list values tuple form? How do you get a tuple values list form?\n",
    "\n",
    "Answer- The tuple() and list function[], repectively."
   ]
  },
  {
   "cell_type": "markdown",
   "id": "dbbaeab2",
   "metadata": {},
   "source": [
    "16. Variables that contain list values are not necessarily lists themselves. Instead, what do they contain?\n",
    "\n",
    "Answer- They contain refereces to list values."
   ]
  },
  {
   "cell_type": "markdown",
   "id": "cfcb6d8a",
   "metadata": {},
   "source": [
    "17. How do you distinguish between copy.copy() and copy.deepcopy()?\n",
    "\n",
    "Answer- The copy.copy()function shallow copy of list, while copy.deepcopy() function will do deep copy of a list. copy.deepcopy can duplicate list inside the list.  "
   ]
  }
 ],
 "metadata": {
  "kernelspec": {
   "display_name": "Python 3 (ipykernel)",
   "language": "python",
   "name": "python3"
  },
  "language_info": {
   "codemirror_mode": {
    "name": "ipython",
    "version": 3
   },
   "file_extension": ".py",
   "mimetype": "text/x-python",
   "name": "python",
   "nbconvert_exporter": "python",
   "pygments_lexer": "ipython3",
   "version": "3.9.7"
  }
 },
 "nbformat": 4,
 "nbformat_minor": 5
}
